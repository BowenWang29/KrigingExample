{
 "cells": [
  {
   "cell_type": "code",
   "execution_count": 1,
   "metadata": {},
   "outputs": [],
   "source": [
    "from arcgis.gis import GIS\n",
    "from arcgis.geocoding import geocode\n",
    "from IPython.display import display\n",
    "my_gis = GIS()"
   ]
  },
  {
   "cell_type": "code",
   "execution_count": 8,
   "metadata": {},
   "outputs": [
    {
     "data": {
      "application/vnd.jupyter.widget-view+json": {
       "model_id": "43deff1f003043c9926ba1beff23e21b",
       "version_major": 2,
       "version_minor": 0
      },
      "text/html": [
       "<p>Failed to display Jupyter Widget of type <code>MapView</code>.</p>\n",
       "<p>\n",
       "  If you're reading this message in the Jupyter Notebook or JupyterLab Notebook, it may mean\n",
       "  that the widgets JavaScript is still loading. If this message persists, it\n",
       "  likely means that the widgets JavaScript library is either not installed or\n",
       "  not enabled. See the <a href=\"https://ipywidgets.readthedocs.io/en/stable/user_install.html\">Jupyter\n",
       "  Widgets Documentation</a> for setup instructions.\n",
       "</p>\n",
       "<p>\n",
       "  If you're reading this message in another frontend (for example, a static\n",
       "  rendering on GitHub or <a href=\"https://nbviewer.jupyter.org/\">NBViewer</a>),\n",
       "  it may mean that your frontend doesn't currently support widgets.\n",
       "</p>\n"
      ],
      "text/plain": [
       "MapView(basemaps=['dark-gray', 'dark-gray-vector', 'gray', 'gray-vector', 'hybrid', 'national-geographic', 'oceans', 'osm', 'satellite', 'streets', 'streets-navigation-vector', 'streets-night-vector', 'streets-relief-vector', 'streets-vector', 'terrain', 'topo', 'topo-vector'], center=[51.11063104900006, 10.39227793200007], zoom=6)"
      ]
     },
     "metadata": {},
     "output_type": "display_data"
    }
   ],
   "source": [
    "\n",
    "my_gis.map(\"Germany\",6)"
   ]
  },
  {
   "cell_type": "code",
   "execution_count": 4,
   "metadata": {},
   "outputs": [],
   "source": [
    "public_content = my_gis.content.search(\"Fire\", item_type=\"Feature Layer\", max_items=5)"
   ]
  },
  {
   "cell_type": "code",
   "execution_count": 18,
   "metadata": {},
   "outputs": [
    {
     "data": {
      "text/html": [
       "<div class=\"item_container\" style=\"height: auto; overflow: hidden; border: 1px solid #cfcfcf; border-radius: 2px; background: #f6fafa; line-height: 1.21429em; padding: 10px;\">\n",
       "                    <div class=\"item_left\" style=\"width: 210px; float: left;\">\n",
       "                       <a href='https://www.arcgis.com/home/item.html?id=644bb2e08e69406886970624c52500f7' target='_blank'>\n",
       "                        <img src='https://www.arcgis.com/sharing/rest//content/items/644bb2e08e69406886970624c52500f7/info/thumbnail/emergency.PNG' class=\"itemThumbnail\">\n",
       "                       </a>\n",
       "                    </div>\n",
       "\n",
       "                    <div class=\"item_right\"     style=\"float: none; width: auto; overflow: hidden;\">\n",
       "                        <a href='https://www.arcgis.com/home/item.html?id=644bb2e08e69406886970624c52500f7' target='_blank'><b>Collier County Emergency Services</b>\n",
       "                        </a>\n",
       "                        <br/>Emergency Facilities in Collier County<img src='https://www.arcgis.com/home/js/jsapi/esri/css/images/item_type_icons/featureshosted16.png' style=\"vertical-align:middle;\">Feature Layer Collection by philsherman_collierbcc\n",
       "                        <br/>Last Modified: Mai 22, 2014\n",
       "                        <br/>0 comments, 5.193 views\n",
       "                    </div>\n",
       "                </div>\n",
       "                "
      ],
      "text/plain": [
       "<Item title:\"Collier County Emergency Services\" type:Feature Layer Collection owner:philsherman_collierbcc>"
      ]
     },
     "metadata": {},
     "output_type": "display_data"
    },
    {
     "data": {
      "text/html": [
       "<div class=\"item_container\" style=\"height: auto; overflow: hidden; border: 1px solid #cfcfcf; border-radius: 2px; background: #f6fafa; line-height: 1.21429em; padding: 10px;\">\n",
       "                    <div class=\"item_left\" style=\"width: 210px; float: left;\">\n",
       "                       <a href='https://www.arcgis.com/home/item.html?id=f867e79cccbd4ac1909e5883e323d0d7' target='_blank'>\n",
       "                        <img src='https://www.arcgis.com/sharing/rest//content/items/f867e79cccbd4ac1909e5883e323d0d7/info/thumbnail/ago_downloaded.png' class=\"itemThumbnail\">\n",
       "                       </a>\n",
       "                    </div>\n",
       "\n",
       "                    <div class=\"item_right\"     style=\"float: none; width: auto; overflow: hidden;\">\n",
       "                        <a href='https://www.arcgis.com/home/item.html?id=f867e79cccbd4ac1909e5883e323d0d7' target='_blank'><b>מיפוי שריפה חדש</b>\n",
       "                        </a>\n",
       "                        <br/>שכבה פוליגונלית של היקף שריפה חיה איתה עובדים באופן שוטף ומעדכנים בקולקטור<img src='https://www.arcgis.com/home/js/jsapi/esri/css/images/item_type_icons/featureshosted16.png' style=\"vertical-align:middle;\">Feature Layer Collection by kkl_arcgis_10\n",
       "                        <br/>Last Modified: Mai 16, 2018\n",
       "                        <br/>0 comments, 12.898 views\n",
       "                    </div>\n",
       "                </div>\n",
       "                "
      ],
      "text/plain": [
       "<Item title:\"מיפוי שריפה חדש\" type:Feature Layer Collection owner:kkl_arcgis_10>"
      ]
     },
     "metadata": {},
     "output_type": "display_data"
    },
    {
     "data": {
      "text/html": [
       "<div class=\"item_container\" style=\"height: auto; overflow: hidden; border: 1px solid #cfcfcf; border-radius: 2px; background: #f6fafa; line-height: 1.21429em; padding: 10px;\">\n",
       "                    <div class=\"item_left\" style=\"width: 210px; float: left;\">\n",
       "                       <a href='https://www.arcgis.com/home/item.html?id=04c4c9a9ee5c402ebc645cfede773eed' target='_blank'>\n",
       "                        <img src='https://www.arcgis.com/sharing/rest//content/items/04c4c9a9ee5c402ebc645cfede773eed/info/thumbnail/ago_downloaded.png' class=\"itemThumbnail\">\n",
       "                       </a>\n",
       "                    </div>\n",
       "\n",
       "                    <div class=\"item_right\"     style=\"float: none; width: auto; overflow: hidden;\">\n",
       "                        <a href='https://www.arcgis.com/home/item.html?id=04c4c9a9ee5c402ebc645cfede773eed' target='_blank'><b>CalOES 2017 Fire Points</b>\n",
       "                        </a>\n",
       "                        <br/><img src='https://www.arcgis.com/home/js/jsapi/esri/css/images/item_type_icons/featureshosted16.png' style=\"vertical-align:middle;\">Feature Layer Collection by calema_gis\n",
       "                        <br/>Last Modified: Mai 30, 2017\n",
       "                        <br/>0 comments, 523.106 views\n",
       "                    </div>\n",
       "                </div>\n",
       "                "
      ],
      "text/plain": [
       "<Item title:\"CalOES 2017 Fire Points\" type:Feature Layer Collection owner:calema_gis>"
      ]
     },
     "metadata": {},
     "output_type": "display_data"
    },
    {
     "data": {
      "text/html": [
       "<div class=\"item_container\" style=\"height: auto; overflow: hidden; border: 1px solid #cfcfcf; border-radius: 2px; background: #f6fafa; line-height: 1.21429em; padding: 10px;\">\n",
       "                    <div class=\"item_left\" style=\"width: 210px; float: left;\">\n",
       "                       <a href='https://www.arcgis.com/home/item.html?id=0cfcebd51ca24a34a4dd2c663b60ddbd' target='_blank'>\n",
       "                        <img src='https://www.arcgis.com/sharing/rest//content/items/0cfcebd51ca24a34a4dd2c663b60ddbd/info/thumbnail/ago_downloaded.png' class=\"itemThumbnail\">\n",
       "                       </a>\n",
       "                    </div>\n",
       "\n",
       "                    <div class=\"item_right\"     style=\"float: none; width: auto; overflow: hidden;\">\n",
       "                        <a href='https://www.arcgis.com/home/item.html?id=0cfcebd51ca24a34a4dd2c663b60ddbd' target='_blank'><b>Fire Perimeters</b>\n",
       "                        </a>\n",
       "                        <br/>Current calendar year fire perimeters in California from GeoMAC<img src='https://www.arcgis.com/home/js/jsapi/esri/css/images/item_type_icons/featureshosted16.png' style=\"vertical-align:middle;\">Feature Layer Collection by cferner_CALFIRE\n",
       "                        <br/>Last Modified: Oktober 24, 2017\n",
       "                        <br/>0 comments, 78.775 views\n",
       "                    </div>\n",
       "                </div>\n",
       "                "
      ],
      "text/plain": [
       "<Item title:\"Fire Perimeters\" type:Feature Layer Collection owner:cferner_CALFIRE>"
      ]
     },
     "metadata": {},
     "output_type": "display_data"
    },
    {
     "data": {
      "text/html": [
       "<div class=\"item_container\" style=\"height: auto; overflow: hidden; border: 1px solid #cfcfcf; border-radius: 2px; background: #f6fafa; line-height: 1.21429em; padding: 10px;\">\n",
       "                    <div class=\"item_left\" style=\"width: 210px; float: left;\">\n",
       "                       <a href='https://www.arcgis.com/home/item.html?id=5a811508e1ab4ddbb79f7f0753d7d2d7' target='_blank'>\n",
       "                        <img src='https://www.arcgis.com/sharing/rest//content/items/5a811508e1ab4ddbb79f7f0753d7d2d7/info/thumbnail/ago_downloaded.png' class=\"itemThumbnail\">\n",
       "                       </a>\n",
       "                    </div>\n",
       "\n",
       "                    <div class=\"item_right\"     style=\"float: none; width: auto; overflow: hidden;\">\n",
       "                        <a href='https://www.arcgis.com/home/item.html?id=5a811508e1ab4ddbb79f7f0753d7d2d7' target='_blank'><b>Intact Forest Landscapes (2000)</b>\n",
       "                        </a>\n",
       "                        <br/>Identifies the world’s last remaining unfragmented forest landscapes, large enough to retain all native biodiversity and showing no signs of human alteration as of the year 2013. This layer also shows the reduction in the extent of Intact Forest Landscapes from 2000 to 2013.<img src='https://www.arcgis.com/home/js/jsapi/esri/css/images/item_type_icons/featureshosted16.png' style=\"vertical-align:middle;\">Feature Layer Collection by GlobalForestWatch\n",
       "                        <br/>Last Modified: Oktober 20, 2017\n",
       "                        <br/>0 comments, 2.248 views\n",
       "                    </div>\n",
       "                </div>\n",
       "                "
      ],
      "text/plain": [
       "<Item title:\"Intact Forest Landscapes (2000)\" type:Feature Layer Collection owner:GlobalForestWatch>"
      ]
     },
     "metadata": {},
     "output_type": "display_data"
    }
   ],
   "source": [
    "for item in public_content:\n",
    "    display(item)\n",
    "\n"
   ]
  },
  {
   "cell_type": "code",
   "execution_count": 20,
   "metadata": {},
   "outputs": [
    {
     "data": {
      "application/vnd.jupyter.widget-view+json": {
       "model_id": "91ea7a6f3b25479d9c25b7b4dae38d35",
       "version_major": 2,
       "version_minor": 0
      },
      "text/html": [
       "<p>Failed to display Jupyter Widget of type <code>MapView</code>.</p>\n",
       "<p>\n",
       "  If you're reading this message in the Jupyter Notebook or JupyterLab Notebook, it may mean\n",
       "  that the widgets JavaScript is still loading. If this message persists, it\n",
       "  likely means that the widgets JavaScript library is either not installed or\n",
       "  not enabled. See the <a href=\"https://ipywidgets.readthedocs.io/en/stable/user_install.html\">Jupyter\n",
       "  Widgets Documentation</a> for setup instructions.\n",
       "</p>\n",
       "<p>\n",
       "  If you're reading this message in another frontend (for example, a static\n",
       "  rendering on GitHub or <a href=\"https://nbviewer.jupyter.org/\">NBViewer</a>),\n",
       "  it may mean that your frontend doesn't currently support widgets.\n",
       "</p>\n"
      ],
      "text/plain": [
       "MapView(basemaps=['dark-gray', 'dark-gray-vector', 'gray', 'gray-vector', 'hybrid', 'national-geographic', 'oceans', 'osm', 'satellite', 'streets', 'streets-navigation-vector', 'streets-night-vector', 'streets-relief-vector', 'streets-vector', 'terrain', 'topo', 'topo-vector'], center=[0, 0])"
      ]
     },
     "metadata": {},
     "output_type": "display_data"
    }
   ],
   "source": [
    "map1 = my_gis.map('Collier County, FL')\n",
    "#get the first item\n",
    "fire = public_content[0]\n",
    "\n",
    "#add to map\n",
    "map1.add_layer(fire)\n",
    "\n",
    "map1"
   ]
  },
  {
   "cell_type": "code",
   "execution_count": 26,
   "metadata": {},
   "outputs": [],
   "source": [
    "# set the map's extent by geocoding the location\n",
    "diegogarcia = geocode(\"Diego Garcia\")[0]\n",
    "map1.extent = diegogarcia['extent']\n",
    "# geocode location of La Reunion island\n",
    "lareunion = geocode(\"La Reunion\")[0]"
   ]
  },
  {
   "cell_type": "code",
   "execution_count": 27,
   "metadata": {},
   "outputs": [],
   "source": [
    "\n",
    "\n",
    "# Annotate the map by plotting Diego Garcia, and two other search locations\n",
    "map1.draw(lareunion['location'], {\"title\": \"Reunion Island\", \"content\": \"Debris found\"})\n",
    "map1.draw(diegogarcia['location'], {\"title\": \"Diego Garcia\", \"content\": \"Naval Support Facility Diego Garcia\"})\n",
    "\n",
    "# Render a feature layer representing the search area\n",
    "# Source: http://www.amsa.gov.au/media/incidents/images/DIGO_00718_01_14.jpg\n",
    "map1.add_layer({\"type\":\"FeatureLayer\", \n",
    "                \"url\" : \"http://services.arcgis.com/WQ9KVmV6xGGMnCiQ/arcgis/rest/services/MH370Search/FeatureServer/1\"})\n",
    "\n"
   ]
  },
  {
   "cell_type": "code",
   "execution_count": 2,
   "metadata": {},
   "outputs": [],
   "source": [
    "import csv\n",
    "import re\n",
    "import math\n",
    "import time\n",
    "import random\n",
    "import numpy as np\n",
    "import sys\n",
    "import os\n",
    "\n",
    "\n",
    "from pyspark import SparkContext, SparkConf\n",
    "from matplotlib.pyplot import axis\n",
    "from numpy import shape\n",
    "\n",
    "import copy\n",
    "import pandas\n",
    "import matplotlib\n",
    "import datetime\n",
    "import matplotlib as mpl\n",
    "import pandas as pd\n",
    "\n",
    "from sklearn.gaussian_process.kernels import Matern\n",
    "import matplotlib.colors as colors\n",
    "import matplotlib.pyplot as plt\n",
    "#os.environ['SPARK_CLASSPATH'] = './spark-streaming-kafka-0-8-assembly_2.11-2.3.0.jar'\n",
    "#os.environ['SPARK_CLASSPATH'] = './spark-sql-kafka-0-10_2.11-2.3.0.jar'\n",
    "os.environ['PYSPARK_SUBMIT_ARGS'] = '--packages org.apache.spark:spark-sql-kafka-0-10_2.11:2.3.0 pyspark-shell'\n",
    "#    Spark\n",
    "from pyspark import SparkContext\n",
    "#    Spark Streaming\n",
    "from pyspark.streaming import StreamingContext  \n",
    "#    Kafka\n",
    "from pyspark.streaming.kafka import KafkaUtils  \n",
    "#    json parsing\n",
    "import json \n",
    "\n",
    "\n",
    "from pyspark.sql import SparkSession\n",
    "from pyspark.conf import SparkConf"
   ]
  },
  {
   "cell_type": "code",
   "execution_count": 3,
   "metadata": {},
   "outputs": [],
   "source": [
    "conf = SparkConf().setMaster(\"local[*]\").setAppName('pyspark')#.set(\"spark.jars\", \"./spark-sql-kafka-0-10_2.11-2.3.0.jar\")\n",
    "#ss = SparkSession.builder.config(conf=conf).getOrCreate()\n",
    "ss = SparkSession.builder.config(conf=conf).getOrCreate()"
   ]
  },
  {
   "cell_type": "code",
   "execution_count": 4,
   "metadata": {},
   "outputs": [],
   "source": [
    "from pyspark.sql import functions as F\n",
    "from pyspark.sql.functions import udf\n",
    "from pyspark.sql.types import *\n",
    "'''\n",
    "def strAsDict(dictStr):\n",
    "    import ast\n",
    "    return ast.literal_eval(dictStr)\n",
    "myAsDict = udf(strAsDict,MapType(ArrayType()))'''\n",
    "\n",
    "\n",
    "#Create a DataFrame that streams data from Kafka\n",
    "df = ss.readStream.format(\"kafka\").option(\"kafka.bootstrap.servers\", \"smartaqnet-dev01.teco.edu:9092\") \\\n",
    "        .option(\"subscribe\", \"WG_Measurements\").load()"
   ]
  },
  {
   "cell_type": "code",
   "execution_count": 5,
   "metadata": {},
   "outputs": [],
   "source": [
    "df = df.selectExpr(\"CAST(timestamp AS STRING)\", \"CAST(value AS STRING)\")\n",
    "mySchema = StructType([StructField(\"AirTemperature\", FloatType()),\n",
    "                       StructField(\"Latitude\", FloatType()),\n",
    "                       StructField(\"Longitude\", FloatType()),\n",
    "                       StructField(\"ID\", StringType()),\n",
    "                      StructField(\"Time\", StringType())])\n",
    "df = df.select(F.regexp_replace('value', \"u\\'\", \"\\'\").alias('value'))\n",
    "df = df.select(F.regexp_replace('value', \"\\'\", \"\\\"\").alias('value'))\n",
    "df = df.select(df.value,F.get_json_object(df.value, '$.ID').alias(\"ID\"))\n",
    "df = df.groupBy(df.ID).agg(F.last(df.value).alias(\"value\"))\n",
    "df = df.select(F.get_json_object(df.value, '$.ID').alias(\"ID\"),\n",
    "               F.get_json_object(df.value, '$.Time').alias(\"Time\"),\n",
    "               F.get_json_object(df.value, '$.Latitude').alias(\"Latitude\"),\n",
    "               F.get_json_object(df.value, '$.Longitude').alias(\"Longitude\"),\n",
    "               F.get_json_object(df.value, '$.AirTemperature').alias(\"AirTemperature\"))"
   ]
  },
  {
   "cell_type": "code",
   "execution_count": 6,
   "metadata": {},
   "outputs": [],
   "source": [
    "q = df.writeStream.queryName('TemperatureMap').outputMode(\"complete\").format(\"memory\").start()"
   ]
  },
  {
   "cell_type": "code",
   "execution_count": 9,
   "metadata": {},
   "outputs": [
    {
     "name": "stdout",
     "output_type": "stream",
     "text": [
      "2680\n"
     ]
    },
    {
     "ename": "AttributeError",
     "evalue": "'MapView' object has no attribute 'getLayer'",
     "output_type": "error",
     "traceback": [
      "\u001b[0;31m---------------------------------------------------------------------------\u001b[0m",
      "\u001b[0;31mAttributeError\u001b[0m                            Traceback (most recent call last)",
      "\u001b[0;32m<ipython-input-9-3f7b8658a738>\u001b[0m in \u001b[0;36m<module>\u001b[0;34m()\u001b[0m\n\u001b[1;32m     19\u001b[0m     \u001b[0;32mfor\u001b[0m \u001b[0maRow\u001b[0m \u001b[0;32min\u001b[0m \u001b[0mknownPoints\u001b[0m\u001b[0;34m:\u001b[0m\u001b[0;34m\u001b[0m\u001b[0m\n\u001b[1;32m     20\u001b[0m         \u001b[0mmap1\u001b[0m\u001b[0;34m.\u001b[0m\u001b[0mdraw\u001b[0m\u001b[0;34m(\u001b[0m\u001b[0;34m[\u001b[0m\u001b[0maRow\u001b[0m\u001b[0;34m[\u001b[0m\u001b[0;36m2\u001b[0m\u001b[0;34m]\u001b[0m\u001b[0;34m,\u001b[0m \u001b[0maRow\u001b[0m\u001b[0;34m[\u001b[0m\u001b[0;36m3\u001b[0m\u001b[0;34m]\u001b[0m\u001b[0;34m]\u001b[0m\u001b[0;34m,\u001b[0m \u001b[0;34m{\u001b[0m\u001b[0;34m\"title\"\u001b[0m\u001b[0;34m:\u001b[0m\u001b[0;34m\"ID\"\u001b[0m\u001b[0;34m,\u001b[0m \u001b[0;34m\"content\"\u001b[0m\u001b[0;34m:\u001b[0m\u001b[0maRow\u001b[0m\u001b[0;34m[\u001b[0m\u001b[0;36m0\u001b[0m\u001b[0;34m]\u001b[0m\u001b[0;34m}\u001b[0m\u001b[0;34m)\u001b[0m\u001b[0;34m\u001b[0m\u001b[0m\n\u001b[0;32m---> 21\u001b[0;31m     \u001b[0mmap1\u001b[0m\u001b[0;34m.\u001b[0m\u001b[0mgetLayer\u001b[0m\u001b[0;34m(\u001b[0m\u001b[0;34m)\u001b[0m\u001b[0;34m.\u001b[0m\u001b[0mrefresh\u001b[0m\u001b[0;34m(\u001b[0m\u001b[0;34m)\u001b[0m\u001b[0;34m\u001b[0m\u001b[0m\n\u001b[0m\u001b[1;32m     22\u001b[0m     \u001b[0mtime\u001b[0m\u001b[0;34m.\u001b[0m\u001b[0msleep\u001b[0m\u001b[0;34m(\u001b[0m\u001b[0;36m30\u001b[0m\u001b[0;34m)\u001b[0m\u001b[0;34m\u001b[0m\u001b[0m\n",
      "\u001b[0;31mAttributeError\u001b[0m: 'MapView' object has no attribute 'getLayer'"
     ]
    }
   ],
   "source": [
    "map1 = my_gis.map(\"Germany\",6)\n",
    "#map1.add_layer({\"type\":\"SensorLayer\",\"url\":\"NothingUrl\"})\n",
    "\n",
    "                \n",
    "#Continuesly get range\n",
    "while(True):\n",
    "    \n",
    "    columns  = ['ID',\n",
    "         'Time',\n",
    "         'Latitude',\n",
    "         'Longitude',\n",
    "         'AirTemperature'\n",
    "        ]\n",
    "    currentState = pd.DataFrame(ss.sql(\"select * from TemperatureMap\").rdd.collect(),columns =columns )\n",
    "    currentState[['Latitude','Longitude','AirTemperature']] = currentState[['Latitude','Longitude','AirTemperature']].apply(pd.to_numeric,errors=\"coerce\")\n",
    "    knownPoints = currentState.dropna(axis=0, how='any').values[:,:]#.astype(np.float)\n",
    "    print(knownPoints.shape[0])\n",
    "    #print \"{0}: {1},\\t{2}: {3}\".format(knownPoints[:,0].min(), knownPoints[:,0].max(),knownPoints[:,1].min(), knownPoints[:,1].max())\n",
    "    for aRow in knownPoints:\n",
    "        map1.draw([aRow[2], aRow[3]], {\"title\":\"ID\", \"content\":aRow[0]})\n",
    "    map1.getLayer(\"SensorLayer\").refresh()\n",
    "    time.sleep(30)\n"
   ]
  },
  {
   "cell_type": "code",
   "execution_count": null,
   "metadata": {},
   "outputs": [],
   "source": [
    "from arcgis.geometry import Point\n",
    "columns  = ['ID',\n",
    "     'Time',\n",
    "     'Latitude',\n",
    "     'Longitude',\n",
    "     'AirTemperature'\n",
    "    ]\n",
    "currentState = pd.DataFrame(ss.sql(\"select * from TemperatureMap\").rdd.collect(),columns =columns )\n",
    "currentState[['Latitude','Longitude','AirTemperature']] = currentState[['Latitude','Longitude','AirTemperature']].apply(pd.to_numeric,errors=\"coerce\")\n",
    "knownPoints = currentState.dropna(axis=0, how='any').loc[0:500,:]\n",
    "fc = my_gis.content.import_data(knownPoints, {\"x\":\"Latitude\",\"y\":\"Longitude\",\"Renderer\":\"SimpleRenderer\"})\n",
    "map1 = my_gis.map(\"Germany\",5)\n",
    "map1.add_layer(fc)\n",
    "map1"
   ]
  },
  {
   "cell_type": "code",
   "execution_count": 91,
   "metadata": {},
   "outputs": [
    {
     "name": "stdout",
     "output_type": "stream",
     "text": [
      "2895\n"
     ]
    }
   ],
   "source": [
    "columns  = ['ID',\n",
    "     'Time',\n",
    "     'Latitude',\n",
    "     'Longitude',\n",
    "     'AirTemperature'\n",
    "    ]\n",
    "currentState = pd.DataFrame(ss.sql(\"select * from TemperatureMap\").rdd.collect(),columns =columns )\n",
    "currentState[['Latitude','Longitude','AirTemperature']] = currentState[['Latitude','Longitude','AirTemperature']].apply(pd.to_numeric,errors=\"coerce\")\n",
    "knownPoints = currentState.dropna(axis=0, how='any').values[:,:]#.astype(np.float)\n",
    "print(knownPoints.shape[0])\n",
    "fro,too = -10.0,30.0\n",
    "mySymbol = {\n",
    "\"type\": \"esriSMS\",\n",
    " \"style\": \"esriSMSSquare\",\n",
    " \"color\": [76,115,0,255],\n",
    " \"size\": 8,\n",
    " \"angle\": 0,\n",
    " \"xoffset\": 0,\n",
    " \"yoffset\": 0,\n",
    " \"outline\": \n",
    "  {\n",
    "  \"color\": [152,230,0,255],\n",
    "   \"width\": 1\n",
    "  }\n",
    "}\n",
    "for aRow in knownPoints[:50]:\n",
    "    map1.draw([aRow[2], aRow[3]], symbol = mySymbol)"
   ]
  },
  {
   "cell_type": "code",
   "execution_count": 97,
   "metadata": {},
   "outputs": [
    {
     "data": {
      "text/plain": [
       "{'_addlayer': '',\n",
       " '_arcgis_url': '',\n",
       " '_basemap': 'topo',\n",
       " '_dom_classes': (),\n",
       " '_extent': '',\n",
       " '_gallerybasemaps': [],\n",
       " '_gbasemaps_def': [],\n",
       " '_js_basemap': '[{\"url\":\"http://services.arcgisonline.com/ArcGIS/rest/services/World_Topo_Map/MapServer\",\"title\":\"World Topographic Map\"}]',\n",
       " '_js_interactive_drawn_graphic': '',\n",
       " '_js_layer_list': '',\n",
       " '_js_renderer': '',\n",
       " '_jsextent': '{\"type\":\"extent\",\"xmin\":-2296956.1759882607,\"ymin\":5484218.777761568,\"xmax\":2482498.3286259696,\"ymax\":7441006.701861559,\"spatialReference\":{\"wkid\":102100,\"latestWkid\":3857}}',\n",
       " '_layerId_to_remove': '',\n",
       " '_model_module': '@jupyter-widgets/base',\n",
       " '_model_module_version': '1.0.0',\n",
       " '_model_name': 'DOMWidgetModel',\n",
       " '_swipe_div': 'swipeDiv5ITLN3',\n",
       " '_token_info': '',\n",
       " '_view_count': None,\n",
       " '_view_module': 'mapview',\n",
       " '_view_module_version': '',\n",
       " '_view_name': 'MapView',\n",
       " 'basemaps': ['dark-gray',\n",
       "  'dark-gray-vector',\n",
       "  'gray',\n",
       "  'gray-vector',\n",
       "  'hybrid',\n",
       "  'national-geographic',\n",
       "  'oceans',\n",
       "  'osm',\n",
       "  'satellite',\n",
       "  'streets',\n",
       "  'streets-navigation-vector',\n",
       "  'streets-night-vector',\n",
       "  'streets-relief-vector',\n",
       "  'streets-vector',\n",
       "  'terrain',\n",
       "  'topo',\n",
       "  'topo-vector'],\n",
       " 'center': [49.01094000000006, 8.408450000000073],\n",
       " 'end_time': '',\n",
       " 'id': '',\n",
       " 'layout': 'IPY_MODEL_f88d69624dad4e0e8ce9b37633d45638',\n",
       " 'mode': '{\"geometry\": {\"x\": 14.722000000000001, \"y\": 50.92100000000001, \"spatialReference\": {\"wkid\": 4326}, \"type\": \"point\"}, \"infoTemplate\": null, \"symbol\": {\"type\": \"esriSMS\", \"style\": \"esriSMSSquare\", \"color\": [76, 115, 0, 255], \"size\": 8, \"angle\": 0, \"xoffset\": 0, \"yoffset\": 0, \"outline\": {\"color\": [152, 230, 0, 255], \"width\": 1}}, \"attributes\": null}',\n",
       " 'start_time': '',\n",
       " 'width': '100%',\n",
       " 'zoom': 7}"
      ]
     },
     "execution_count": 97,
     "metadata": {},
     "output_type": "execute_result"
    }
   ],
   "source": [
    "map1.get_state()"
   ]
  },
  {
   "cell_type": "code",
   "execution_count": 87,
   "metadata": {},
   "outputs": [
    {
     "data": {
      "application/vnd.jupyter.widget-view+json": {
       "model_id": "83d334c2027a40ba9e904a0bfe1e84cc",
       "version_major": 2,
       "version_minor": 0
      },
      "text/html": [
       "<p>Failed to display Jupyter Widget of type <code>MapView</code>.</p>\n",
       "<p>\n",
       "  If you're reading this message in the Jupyter Notebook or JupyterLab Notebook, it may mean\n",
       "  that the widgets JavaScript is still loading. If this message persists, it\n",
       "  likely means that the widgets JavaScript library is either not installed or\n",
       "  not enabled. See the <a href=\"https://ipywidgets.readthedocs.io/en/stable/user_install.html\">Jupyter\n",
       "  Widgets Documentation</a> for setup instructions.\n",
       "</p>\n",
       "<p>\n",
       "  If you're reading this message in another frontend (for example, a static\n",
       "  rendering on GitHub or <a href=\"https://nbviewer.jupyter.org/\">NBViewer</a>),\n",
       "  it may mean that your frontend doesn't currently support widgets.\n",
       "</p>\n"
      ],
      "text/plain": [
       "MapView(basemaps=['dark-gray', 'dark-gray-vector', 'gray', 'gray-vector', 'hybrid', 'national-geographic', 'oceans', 'osm', 'satellite', 'streets', 'streets-navigation-vector', 'streets-night-vector', 'streets-relief-vector', 'streets-vector', 'terrain', 'topo', 'topo-vector'], center=[49.01094000000006, 8.408450000000073], zoom=7)"
      ]
     },
     "metadata": {},
     "output_type": "display_data"
    }
   ],
   "source": [
    "map1 = my_gis.map(\"Karlsruhe\",7)\n"
   ]
  },
  {
   "cell_type": "code",
   "execution_count": 51,
   "metadata": {},
   "outputs": [],
   "source": [
    "aRow=knownPoints[101]\n",
    "map1.draw([aRow[2], aRow[3]], {\"title\":\"ID\", \"content\":aRow[0]})"
   ]
  },
  {
   "cell_type": "code",
   "execution_count": 45,
   "metadata": {},
   "outputs": [
    {
     "data": {
      "text/plain": [
       "{\n",
       "  \"layerDefinition\": {\n",
       "    \"currentVersion\": 10.51,\n",
       "    \"id\": 0,\n",
       "    \"name\": \"\",\n",
       "    \"type\": \"Feature Layer\",\n",
       "    \"displayField\": \"\",\n",
       "    \"description\": \"\",\n",
       "    \"copyrightText\": \"\",\n",
       "    \"defaultVisibility\": true,\n",
       "    \"relationships\": [],\n",
       "    \"isDataVersioned\": false,\n",
       "    \"supportsAppend\": true,\n",
       "    \"supportsCalculate\": true,\n",
       "    \"supportsTruncate\": false,\n",
       "    \"supportsAttachmentsByUploadId\": true,\n",
       "    \"supportsAttachmentsResizing\": true,\n",
       "    \"supportsRollbackOnFailureParameter\": true,\n",
       "    \"supportsStatistics\": true,\n",
       "    \"supportsAdvancedQueries\": true,\n",
       "    \"supportsValidateSql\": true,\n",
       "    \"supportsCoordinatesQuantization\": true,\n",
       "    \"supportsApplyEditsWithGlobalIds\": false,\n",
       "    \"advancedQueryCapabilities\": {\n",
       "      \"supportsPagination\": true,\n",
       "      \"supportsPaginationOnAggregatedQueries\": true,\n",
       "      \"supportsQueryRelatedPagination\": true,\n",
       "      \"supportsQueryWithDistance\": true,\n",
       "      \"supportsReturningQueryExtent\": true,\n",
       "      \"supportsStatistics\": true,\n",
       "      \"supportsOrderBy\": true,\n",
       "      \"supportsDistinct\": true,\n",
       "      \"supportsQueryWithResultType\": true,\n",
       "      \"supportsSqlExpression\": true,\n",
       "      \"supportsAdvancedQueryRelated\": true,\n",
       "      \"supportsCountDistinct\": true,\n",
       "      \"supportsReturningGeometryCentroid\": false,\n",
       "      \"supportsQueryWithDatumTransformation\": true,\n",
       "      \"supportsHavingClause\": true,\n",
       "      \"supportsOutFieldSQLExpression\": true\n",
       "    },\n",
       "    \"useStandardizedQueries\": false,\n",
       "    \"geometryType\": \"esriGeometryPoint\",\n",
       "    \"minScale\": 0,\n",
       "    \"maxScale\": 0,\n",
       "    \"extent\": {\n",
       "      \"xmin\": -17811118.526923772,\n",
       "      \"ymin\": -15538711.096309224,\n",
       "      \"xmax\": 17811118.526923772,\n",
       "      \"ymax\": 15538711.096309224,\n",
       "      \"spatialReference\": {\n",
       "        \"wkid\": 102100,\n",
       "        \"latestWkid\": 3857\n",
       "      }\n",
       "    },\n",
       "    \"drawingInfo\": {\n",
       "      \"renderer\": {\n",
       "        \"type\": \"simple\",\n",
       "        \"symbol\": {\n",
       "          \"type\": \"esriPMS\",\n",
       "          \"url\": \"http://static.arcgis.com/images/Symbols/Basic/RedSphere.png\",\n",
       "          \"imageData\": \"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\",\n",
       "          \"contentType\": \"image/png\",\n",
       "          \"width\": 15,\n",
       "          \"height\": 15\n",
       "        }\n",
       "      }\n",
       "    },\n",
       "    \"allowGeometryUpdates\": true,\n",
       "    \"hasAttachments\": false,\n",
       "    \"htmlPopupType\": \"esriServerHTMLPopupTypeNone\",\n",
       "    \"hasM\": false,\n",
       "    \"hasZ\": false,\n",
       "    \"objectIdField\": \"FID\",\n",
       "    \"globalIdField\": \"\",\n",
       "    \"typeIdField\": \"\",\n",
       "    \"fields\": [\n",
       "      {\n",
       "        \"name\": \"ID\",\n",
       "        \"type\": \"esriFieldTypeString\",\n",
       "        \"alias\": \"ID\",\n",
       "        \"sqlType\": \"sqlTypeNVarchar\",\n",
       "        \"length\": 256,\n",
       "        \"nullable\": true,\n",
       "        \"editable\": true,\n",
       "        \"domain\": null,\n",
       "        \"defaultValue\": null\n",
       "      },\n",
       "      {\n",
       "        \"name\": \"Time\",\n",
       "        \"type\": \"esriFieldTypeDate\",\n",
       "        \"alias\": \"Time\",\n",
       "        \"sqlType\": \"sqlTypeDate\",\n",
       "        \"length\": 256,\n",
       "        \"nullable\": true,\n",
       "        \"editable\": true,\n",
       "        \"domain\": null,\n",
       "        \"defaultValue\": null\n",
       "      },\n",
       "      {\n",
       "        \"name\": \"Latitude\",\n",
       "        \"type\": \"esriFieldTypeDouble\",\n",
       "        \"alias\": \"Latitude\",\n",
       "        \"sqlType\": \"sqlTypeFloat\",\n",
       "        \"nullable\": true,\n",
       "        \"editable\": true,\n",
       "        \"domain\": null,\n",
       "        \"defaultValue\": null\n",
       "      },\n",
       "      {\n",
       "        \"name\": \"Longitude\",\n",
       "        \"type\": \"esriFieldTypeDouble\",\n",
       "        \"alias\": \"Longitude\",\n",
       "        \"sqlType\": \"sqlTypeFloat\",\n",
       "        \"nullable\": true,\n",
       "        \"editable\": true,\n",
       "        \"domain\": null,\n",
       "        \"defaultValue\": null\n",
       "      },\n",
       "      {\n",
       "        \"name\": \"AirTemperature\",\n",
       "        \"type\": \"esriFieldTypeDouble\",\n",
       "        \"alias\": \"AirTemperature\",\n",
       "        \"sqlType\": \"sqlTypeFloat\",\n",
       "        \"nullable\": true,\n",
       "        \"editable\": true,\n",
       "        \"domain\": null,\n",
       "        \"defaultValue\": null\n",
       "      },\n",
       "      {\n",
       "        \"name\": \"FID\",\n",
       "        \"type\": \"esriFieldTypeOID\",\n",
       "        \"alias\": \"FID\",\n",
       "        \"sqlType\": \"sqlTypeInteger\",\n",
       "        \"nullable\": false,\n",
       "        \"editable\": false,\n",
       "        \"domain\": null,\n",
       "        \"defaultValue\": null\n",
       "      }\n",
       "    ],\n",
       "    \"indexes\": [],\n",
       "    \"types\": [],\n",
       "    \"templates\": [\n",
       "      {\n",
       "        \"name\": \"New Feature\",\n",
       "        \"description\": \"\",\n",
       "        \"drawingTool\": \"esriFeatureEditToolPoint\",\n",
       "        \"prototype\": {\n",
       "          \"attributes\": {\n",
       "            \"ID\": null,\n",
       "            \"Time\": null,\n",
       "            \"Latitude\": null,\n",
       "            \"Longitude\": null,\n",
       "            \"AirTemperature\": null\n",
       "          }\n",
       "        }\n",
       "      }\n",
       "    ],\n",
       "    \"supportedQueryFormats\": \"JSON, geoJSON\",\n",
       "    \"hasStaticData\": false,\n",
       "    \"maxRecordCount\": -1,\n",
       "    \"standardMaxRecordCount\": 32000,\n",
       "    \"tileMaxRecordCount\": 8000,\n",
       "    \"maxRecordCountFactor\": 1,\n",
       "    \"capabilities\": \"Create,Delete,Query,Update,Editing\"\n",
       "  },\n",
       "  \"featureSet\": {\n",
       "    \"features\": [],\n",
       "    \"geometryType\": \"esriGeometryPoint\"\n",
       "  }\n",
       "}"
      ]
     },
     "execution_count": 45,
     "metadata": {},
     "output_type": "execute_result"
    }
   ],
   "source": [
    "fc.properties"
   ]
  },
  {
   "cell_type": "code",
   "execution_count": 48,
   "metadata": {},
   "outputs": [
    {
     "ename": "ValueError",
     "evalue": "Address column not found in dataframe",
     "output_type": "error",
     "traceback": [
      "\u001b[0;31m---------------------------------------------------------------------------\u001b[0m",
      "\u001b[0;31mValueError\u001b[0m                                Traceback (most recent call last)",
      "\u001b[0;32m<ipython-input-48-17377487101f>\u001b[0m in \u001b[0;36m<module>\u001b[0;34m()\u001b[0m\n\u001b[1;32m      1\u001b[0m \u001b[0;32mfrom\u001b[0m \u001b[0marcgis\u001b[0m\u001b[0;34m.\u001b[0m\u001b[0mfeatures\u001b[0m \u001b[0;32mimport\u001b[0m \u001b[0mSpatialDataFrame\u001b[0m\u001b[0;34m\u001b[0m\u001b[0m\n\u001b[0;32m----> 2\u001b[0;31m \u001b[0msdf\u001b[0m \u001b[0;34m=\u001b[0m \u001b[0mSpatialDataFrame\u001b[0m\u001b[0;34m.\u001b[0m\u001b[0mfrom_df\u001b[0m\u001b[0;34m(\u001b[0m\u001b[0mdf\u001b[0m\u001b[0;34m)\u001b[0m\u001b[0;34m\u001b[0m\u001b[0m\n\u001b[0m",
      "\u001b[0;32m~/anaconda3/lib/python3.6/site-packages/arcgis/features/_data/geodataset/geodataframe.py\u001b[0m in \u001b[0;36mfrom_df\u001b[0;34m(df, address_column, geocoder)\u001b[0m\n\u001b[1;32m   1320\u001b[0m                         \u001b[0mgeoms\u001b[0m\u001b[0;34m.\u001b[0m\u001b[0mappend\u001b[0m\u001b[0;34m(\u001b[0m\u001b[0;32mNone\u001b[0m\u001b[0;34m)\u001b[0m\u001b[0;34m\u001b[0m\u001b[0m\n\u001b[1;32m   1321\u001b[0m         \u001b[0;32melse\u001b[0m\u001b[0;34m:\u001b[0m\u001b[0;34m\u001b[0m\u001b[0m\n\u001b[0;32m-> 1322\u001b[0;31m             \u001b[0;32mraise\u001b[0m \u001b[0mValueError\u001b[0m\u001b[0;34m(\u001b[0m\u001b[0;34m\"Address column not found in dataframe\"\u001b[0m\u001b[0;34m)\u001b[0m\u001b[0;34m\u001b[0m\u001b[0m\n\u001b[0m\u001b[1;32m   1323\u001b[0m \u001b[0;34m\u001b[0m\u001b[0m\n\u001b[1;32m   1324\u001b[0m         \u001b[0;32mreturn\u001b[0m \u001b[0mSpatialDataFrame\u001b[0m\u001b[0;34m(\u001b[0m\u001b[0mdf\u001b[0m\u001b[0;34m,\u001b[0m \u001b[0mgeometry\u001b[0m\u001b[0;34m=\u001b[0m\u001b[0mgeoms\u001b[0m\u001b[0;34m)\u001b[0m\u001b[0;34m\u001b[0m\u001b[0m\n",
      "\u001b[0;31mValueError\u001b[0m: Address column not found in dataframe"
     ]
    }
   ],
   "source": [
    "from arcgis.features import SpatialDataFrame\n",
    "sdf = SpatialDataFrame.from_df(df)"
   ]
  },
  {
   "cell_type": "code",
   "execution_count": 20,
   "metadata": {},
   "outputs": [
    {
     "data": {
      "application/vnd.jupyter.widget-view+json": {
       "model_id": "2a54b0fa9ffa471095311f8544fc2aa4",
       "version_major": 2,
       "version_minor": 0
      },
      "text/html": [
       "<p>Failed to display Jupyter Widget of type <code>MapView</code>.</p>\n",
       "<p>\n",
       "  If you're reading this message in the Jupyter Notebook or JupyterLab Notebook, it may mean\n",
       "  that the widgets JavaScript is still loading. If this message persists, it\n",
       "  likely means that the widgets JavaScript library is either not installed or\n",
       "  not enabled. See the <a href=\"https://ipywidgets.readthedocs.io/en/stable/user_install.html\">Jupyter\n",
       "  Widgets Documentation</a> for setup instructions.\n",
       "</p>\n",
       "<p>\n",
       "  If you're reading this message in another frontend (for example, a static\n",
       "  rendering on GitHub or <a href=\"https://nbviewer.jupyter.org/\">NBViewer</a>),\n",
       "  it may mean that your frontend doesn't currently support widgets.\n",
       "</p>\n"
      ],
      "text/plain": [
       "MapView(basemaps=['dark-gray', 'dark-gray-vector', 'gray', 'gray-vector', 'hybrid', 'national-geographic', 'oceans', 'osm', 'satellite', 'streets', 'streets-navigation-vector', 'streets-night-vector', 'streets-relief-vector', 'streets-vector', 'terrain', 'topo', 'topo-vector'], center=[51.11063104900006, 10.39227793200007], mode='{\"geometry\": {\"x\": 11.790999999999999, \"y\": 50.286, \"spatialReference\": {\"wkid\": 4326}, \"type\": \"point\"}, \"infoTemplate\": {\"title\": \"ID\", \"content\": \"IBAVARIA14\"}, \"symbol\": null, \"attributes\": null}', zoom=6)"
      ]
     },
     "metadata": {},
     "output_type": "display_data"
    }
   ],
   "source": [
    "map1"
   ]
  },
  {
   "cell_type": "code",
   "execution_count": null,
   "metadata": {},
   "outputs": [],
   "source": []
  }
 ],
 "metadata": {
  "kernelspec": {
   "display_name": "Python 3",
   "language": "python",
   "name": "python3"
  },
  "language_info": {
   "codemirror_mode": {
    "name": "ipython",
    "version": 3
   },
   "file_extension": ".py",
   "mimetype": "text/x-python",
   "name": "python",
   "nbconvert_exporter": "python",
   "pygments_lexer": "ipython3",
   "version": "3.6.4"
  }
 },
 "nbformat": 4,
 "nbformat_minor": 2
}
