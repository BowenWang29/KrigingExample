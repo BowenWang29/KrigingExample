{
 "cells": [
  {
   "cell_type": "code",
   "execution_count": 1,
   "metadata": {},
   "outputs": [],
   "source": [
    "from __future__ import print_function\n",
    "import sqlite3\n",
    "import paho.mqtt.client as mqtt\n",
    "import csv\n",
    "import datetime\n",
    "import os\n",
    "import json\n",
    "import requests\n",
    "import sys\n",
    "import msgpack\n",
    "from kafka import KafkaProducer\n",
    "from kafka import SimpleProducer, KafkaClient\n",
    "#basepath = '/root/sftp/volumes/saqn/"
   ]
  },
  {
   "cell_type": "code",
   "execution_count": 4,
   "metadata": {},
   "outputs": [],
   "source": [
    "import threading, logging, time\n",
    "import multiprocessing\n",
    "\n",
    "from kafka import KafkaConsumer, KafkaProducer\n",
    "\n",
    "kafkaUrl = \"swarm-node00.teco.edu\"\n",
    "kafkaUrl = \"129.13.170.153\"#smartaqnet-dev.teco.edu\"\n",
    "class Producer(threading.Thread):\n",
    "    def __init__(self):\n",
    "        threading.Thread.__init__(self)\n",
    "        self.stop_event = threading.Event()\n",
    "        \n",
    "    def stop(self):\n",
    "        self.stop_event.set()\n",
    "\n",
    "    def run(self):\n",
    "        print(\"Starting producer\")\n",
    "        producer = KafkaProducer(bootstrap_servers=kafkaUrl+':9092')\n",
    "        print(\"Producer started\")\n",
    "        while not self.stop_event.is_set():\n",
    "            print(\"someThing\")\n",
    "            print(producer.send('Baka', str(time.time())))\n",
    "            \n",
    "            \n",
    "            time.sleep(2)\n",
    "\n",
    "        producer.close()\n",
    "\n",
    "class Consumer(multiprocessing.Process):\n",
    "    def __init__(self):\n",
    "        \n",
    "        multiprocessing.Process.__init__(self)\n",
    "        self.stop_event = multiprocessing.Event()\n",
    "        \n",
    "    def stop(self):\n",
    "        self.stop_event.set()\n",
    "        \n",
    "    def run(self):\n",
    "        \n",
    "        print(\"Starting consumer\")\n",
    "        consumer = KafkaConsumer(bootstrap_servers= kafkaUrl + ':9092',\n",
    "                                 auto_offset_reset='latest',\n",
    "                                 consumer_timeout_ms=1000)#,value_deserializer=msgpack.unpackb)\n",
    "        \n",
    "        print(\"Consumer started\")\n",
    "        consumer.subscribe(['Baka'])\n",
    "\n",
    "        while not self.stop_event.is_set():\n",
    "            for message in consumer:\n",
    "                print(message)\n",
    "                \n",
    "                if self.stop_event.is_set():\n",
    "                    break\n",
    "\n",
    "        consumer.close()"
   ]
  },
  {
   "cell_type": "code",
   "execution_count": 9,
   "metadata": {},
   "outputs": [
    {
     "name": "stdout",
     "output_type": "stream",
     "text": [
      "Starting producer\n",
      "Starting consumer\n",
      "Consumer started\n",
      "Producer started\n",
      "someThing\n",
      "ConsumerRecord(topic=u'Baka', partition=0, offset=0, timestamp=1528444664580, timestamp_type=0, key=None, value='1528444664.19', checksum=None, serialized_key_size=-1, serialized_value_size=13)\n",
      "<kafka.producer.future.FutureRecordMetadata object at 0x7f6fc45d4090>\n",
      "ConsumerRecord(topic=u'Baka', partition=0, offset=1, timestamp=1528444666581, timestamp_type=0, key=None, value='1528444666.58', checksum=None, serialized_key_size=-1, serialized_value_size=13)\n",
      "someThing\n",
      "<kafka.producer.future.FutureRecordMetadata object at 0x7f6fc45e0850>\n",
      "ConsumerRecord(topic=u'Baka', partition=0, offset=2, timestamp=1528444668585, timestamp_type=0, key=None, value='1528444668.58', checksum=None, serialized_key_size=-1, serialized_value_size=13)\n",
      "someThing\n",
      "<kafka.producer.future.FutureRecordMetadata object at 0x7f6fc45e0b50>\n"
     ]
    }
   ],
   "source": [
    "tasks = [\n",
    "        Producer(),\n",
    "        Consumer()\n",
    "]\n",
    "for t in tasks:\n",
    "        t.start()\n",
    "\n",
    "        \n"
   ]
  },
  {
   "cell_type": "code",
   "execution_count": 10,
   "metadata": {},
   "outputs": [],
   "source": [
    "\n",
    "for t in tasks:\n",
    "        t.stop()"
   ]
  },
  {
   "cell_type": "code",
   "execution_count": 14,
   "metadata": {},
   "outputs": [],
   "source": [
    "for t in tasks:\n",
    "        t.stop()"
   ]
  },
  {
   "cell_type": "code",
   "execution_count": null,
   "metadata": {},
   "outputs": [],
   "source": [
    "docker run \\\n",
    "  --net=host \\\n",
    "  --rm confluentinc/cp-kafka \\\n",
    "  bash -c \"seq 42 | kafka-console-producer --broker-list localhost:29092 --topic bar && echo 'Produced 42 messages.'\""
   ]
  },
  {
   "cell_type": "code",
   "execution_count": null,
   "metadata": {},
   "outputs": [],
   "source": [
    "docker run \\\n",
    " --net=host \\\n",
    " --rm \\\n",
    " confluentinc/cp-kafka \\\n",
    " kafka-console-consumer --bootstrap-server localhost:29092 --topic bar --new-consumer --from-beginning --max-messages 42"
   ]
  }
 ],
 "metadata": {
  "kernelspec": {
   "display_name": "Python 2",
   "language": "python",
   "name": "python2"
  },
  "language_info": {
   "codemirror_mode": {
    "name": "ipython",
    "version": 2
   },
   "file_extension": ".py",
   "mimetype": "text/x-python",
   "name": "python",
   "nbconvert_exporter": "python",
   "pygments_lexer": "ipython2",
   "version": "2.7.14"
  }
 },
 "nbformat": 4,
 "nbformat_minor": 2
}
