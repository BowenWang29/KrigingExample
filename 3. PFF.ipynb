{
 "cells": [
  {
   "cell_type": "code",
   "execution_count": 1,
   "metadata": {},
   "outputs": [],
   "source": [
    "from __future__ import print_function\n",
    "import sqlite3\n",
    "import paho.mqtt.client as mqtt\n",
    "import csv\n",
    "import datetime\n",
    "import os\n",
    "import json\n",
    "import requests\n",
    "import sys\n",
    "import msgpack\n",
    "from kafka import KafkaProducer\n",
    "from kafka import SimpleProducer, KafkaClient\n",
    "#basepath = '/root/sftp/volumes/saqn/"
   ]
  },
  {
   "cell_type": "code",
   "execution_count": 4,
   "metadata": {},
   "outputs": [],
   "source": [
    "import threading, logging, time\n",
    "import multiprocessing\n",
    "\n",
    "from kafka import KafkaConsumer, KafkaProducer\n",
    "\n",
    "kafkaUrl = \"smartaqnet-dev01.teco.edu\"\n",
    "#kafkaUrl = \"smartaqnet.teco.edu\"\n",
    "class Producer(threading.Thread):\n",
    "    def __init__(self):\n",
    "        threading.Thread.__init__(self)\n",
    "        self.stop_event = threading.Event()\n",
    "        \n",
    "    def stop(self):\n",
    "        self.stop_event.set()\n",
    "\n",
    "    def run(self):\n",
    "        producer = KafkaProducer(bootstrap_servers=kafkaUrl+':9092')\n",
    "\n",
    "        while not self.stop_event.is_set():\n",
    "            producer.send('Baka', str(time.time()))\n",
    "            \n",
    "            time.sleep(2)\n",
    "\n",
    "        producer.close()\n",
    "\n",
    "class Consumer(multiprocessing.Process):\n",
    "    def __init__(self):\n",
    "        \n",
    "        multiprocessing.Process.__init__(self)\n",
    "        self.stop_event = multiprocessing.Event()\n",
    "        \n",
    "    def stop(self):\n",
    "        self.stop_event.set()\n",
    "        \n",
    "    def run(self):\n",
    "        consumer = KafkaConsumer(bootstrap_servers= kafkaUrl + ':9092',\n",
    "                                 auto_offset_reset='latest',\n",
    "                                 consumer_timeout_ms=1000)#,value_deserializer=msgpack.unpackb)\n",
    "        consumer.subscribe(['Observations'])\n",
    "\n",
    "        while not self.stop_event.is_set():\n",
    "            for message in consumer:\n",
    "                print(message)\n",
    "                \n",
    "                if self.stop_event.is_set():\n",
    "                    break\n",
    "\n",
    "        consumer.close()"
   ]
  },
  {
   "cell_type": "code",
   "execution_count": 5,
   "metadata": {},
   "outputs": [
    {
     "name": "stdout",
     "output_type": "stream",
     "text": [
      "ConsumerRecord(topic=u'Observations', partition=0, offset=1885047, timestamp=1527692797189, timestamp_type=0, key='edu.teco.wang/IMOERS40/Datastreams/Air-Temperature-IMOERS40', value='{\"Datastream\": {\"@iot.id\": \"edu.teco.wang/IMOERS40/Datastreams/Air-Temperature-IMOERS40\", \"unitOfMeasurement\": {\"definition\": null, \"symbol\": null, \"name\": null}}, \"FeatureOfInterest@iot.navigationLink\": \"http://localhost:8080/FROST-Server/v1.0/Observations(\\'0c851c5c-641b-11e8-8042-935937257529\\')/FeatureOfInterest\", \"phenomenonTime\": \"2015-12-31T22:45:00.000Z\", \"@iot.id\": \"0c851c5c-641b-11e8-8042-935937257529\", \"@iot.selfLink\": \"http://localhost:8080/FROST-Server/v1.0/Observations(\\'0c851c5c-641b-11e8-8042-935937257529\\')\", \"result\": \"6.9\", \"FeatureOfInterest\": {\"@iot.id\": \"edu.teco.wang/IMOERS40/FoI/IMOERS40/51.455:6.657\"}, \"resultTime\": \"2015-12-31T22:45:00.000Z\", \"Datastream@iot.navigationLink\": \"http://localhost:8080/FROST-Server/v1.0/Observations(\\'0c851c5c-641b-11e8-8042-935937257529\\')/Datastream\"}', checksum=None, serialized_key_size=59, serialized_value_size=812)\n",
      "ConsumerRecord(topic=u'Observations', partition=0, offset=1885048, timestamp=1527692800223, timestamp_type=0, key='edu.teco.wang/IMARIAHO2/Datastreams/Air-Temperature-IMARIAHO2', value='{\"Datastream\": {\"@iot.id\": \"edu.teco.wang/IMARIAHO2/Datastreams/Air-Temperature-IMARIAHO2\", \"unitOfMeasurement\": {\"definition\": null, \"symbol\": null, \"name\": null}}, \"FeatureOfInterest@iot.navigationLink\": \"http://localhost:8080/FROST-Server/v1.0/Observations(\\'0e544850-641b-11e8-8042-23646a89621a\\')/FeatureOfInterest\", \"phenomenonTime\": \"2015-12-31T22:57:00.000Z\", \"@iot.id\": \"0e544850-641b-11e8-8042-23646a89621a\", \"@iot.selfLink\": \"http://localhost:8080/FROST-Server/v1.0/Observations(\\'0e544850-641b-11e8-8042-23646a89621a\\')\", \"result\": \"5.7\", \"FeatureOfInterest\": {\"@iot.id\": \"edu.teco.wang/IMARIAHO2/FoI/IMARIAHO2/51.092:6.021\"}, \"resultTime\": \"2015-12-31T22:57:00.000Z\", \"Datastream@iot.navigationLink\": \"http://localhost:8080/FROST-Server/v1.0/Observations(\\'0e544850-641b-11e8-8042-23646a89621a\\')/Datastream\"}', checksum=None, serialized_key_size=61, serialized_value_size=816)\n",
      "ConsumerRecord(topic=u'Observations', partition=0, offset=1885049, timestamp=1527692801444, timestamp_type=0, key='edu.teco.wang/ISCHORTE3/Datastreams/Air-Temperature-ISCHORTE3', value='{\"Datastream\": {\"@iot.id\": \"edu.teco.wang/ISCHORTE3/Datastreams/Air-Temperature-ISCHORTE3\", \"unitOfMeasurement\": {\"definition\": null, \"symbol\": null, \"name\": null}}, \"FeatureOfInterest@iot.navigationLink\": \"http://localhost:8080/FROST-Server/v1.0/Observations(\\'0f0ea682-641b-11e8-8042-27b2ad3f8e91\\')/FeatureOfInterest\", \"phenomenonTime\": \"2015-12-31T22:42:00.000Z\", \"@iot.id\": \"0f0ea682-641b-11e8-8042-27b2ad3f8e91\", \"@iot.selfLink\": \"http://localhost:8080/FROST-Server/v1.0/Observations(\\'0f0ea682-641b-11e8-8042-27b2ad3f8e91\\')\", \"result\": \"5.0\", \"FeatureOfInterest\": {\"@iot.id\": \"edu.teco.wang/ISCHORTE3/FoI/ISCHORTE3/53.536:7.960\"}, \"resultTime\": \"2015-12-31T22:42:00.000Z\", \"Datastream@iot.navigationLink\": \"http://localhost:8080/FROST-Server/v1.0/Observations(\\'0f0ea682-641b-11e8-8042-27b2ad3f8e91\\')/Datastream\"}', checksum=None, serialized_key_size=61, serialized_value_size=816)\n"
     ]
    }
   ],
   "source": [
    "tasks = [\n",
    "        #Producer(),\n",
    "        Consumer()\n",
    "]\n",
    "for t in tasks:\n",
    "        t.start()\n",
    "time.sleep(10)\n",
    "for t in tasks:\n",
    "        t.stop()"
   ]
  },
  {
   "cell_type": "code",
   "execution_count": 4,
   "metadata": {},
   "outputs": [
    {
     "data": {
      "text/plain": [
       "1527681003.223547"
      ]
     },
     "execution_count": 4,
     "metadata": {},
     "output_type": "execute_result"
    }
   ],
   "source": [
    "time.time()"
   ]
  },
  {
   "cell_type": "code",
   "execution_count": 12,
   "metadata": {},
   "outputs": [],
   "source": [
    "for t in tasks:\n",
    "        t.stop()"
   ]
  },
  {
   "cell_type": "code",
   "execution_count": null,
   "metadata": {},
   "outputs": [],
   "source": []
  }
 ],
 "metadata": {
  "kernelspec": {
   "display_name": "Python 2",
   "language": "python",
   "name": "python2"
  },
  "language_info": {
   "codemirror_mode": {
    "name": "ipython",
    "version": 2
   },
   "file_extension": ".py",
   "mimetype": "text/x-python",
   "name": "python",
   "nbconvert_exporter": "python",
   "pygments_lexer": "ipython2",
   "version": "2.7.14"
  }
 },
 "nbformat": 4,
 "nbformat_minor": 2
}
